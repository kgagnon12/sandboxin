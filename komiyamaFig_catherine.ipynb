{
 "cells": [
  {
   "cell_type": "code",
   "execution_count": null,
   "id": "752a11ac",
   "metadata": {},
   "outputs": [],
   "source": [
    "import numpy as np\n",
    "import matplotlib.pyplot as plt\n",
    "import _pickle as pkl\n",
    "import pandas as pd\n",
    "import os,io,sys,glob, h5py, csv, time\n",
    "import matplotlib.pyplot as plt\n",
    "import json\n",
    "\n",
    "from dlab import generalephys as ephys\n",
    "from dlab import generalephys_mua as ephys_mua\n",
    "#from neuropixels import cell_pairs as pairs\n",
    "\n",
    "#from neuropixels import utils_pipeline as utils\n",
    "#from neuropixels import analysis_pipeline as analysis\n",
    "\n",
    "from dlab import analysis_pipeline as analysis\n",
    "from dlab.continuous_traces import gaussian_filter1d\n",
    "from scipy.signal import find_peaks\n",
    "from scipy.stats import pearsonr, spearmanr, zscore\n",
    "from itertools import combinations \n",
    "#from neuropixels import sorting_quality_editing as sq\n",
    "from sklearn.manifold import TSNE\n",
    "from scipy.cluster.vq import kmeans2\n",
    "#from dlab import depth_estimation as depth\n",
    "#from dlab import PCA as pca\n",
    "from scipy import stats\n",
    "\n",
    "import seaborn as sns\n",
    "sns.set_style('white')\n",
    "%matplotlib inline\n",
    "%load_ext autoreload\n",
    "%autoreload 2\n",
    "sns.set_style(\"white\")\n",
    "import warnings\n",
    "warnings.filterwarnings('ignore')"
   ]
  },
  {
   "cell_type": "code",
   "execution_count": 1,
   "id": "c2bccfe8",
   "metadata": {},
   "outputs": [],
   "source": [
    "def psth(df,df_reaches,start,end,binsize):\n",
    "\n",
    "    tensor = []\n",
    "    hists = []\n",
    "    each_unit = []\n",
    "    behavior = []\n",
    "    units = []\n",
    "    reach = []\n",
    "    all_reach = []\n",
    "    all_rastor = []\n",
    "    peakt = []\n",
    "\n",
    "    for i,times in enumerate(df.times): #compare that unit's spike times to each reach max\n",
    "        t = np.array(times) #for reach unit create an array of that unit's spike times\n",
    "        hists = []\n",
    "        for j,tmax in enumerate(df_reaches.rMax_t): #for each unit \n",
    "            a = tmax+start\n",
    "            b = tmax+end\n",
    "            rd = np.array(t[(t >= a) & (t <= b)]) #find if that unit spiked within designated timeframes around reachmax\n",
    "            edges=np.arange(a,b,binsize) #designated bins around this iteration of reachmax\n",
    "            hist=np.histogram(rd,edges)[0] #bin spikes into timeframe\n",
    "            \n",
    "            #maxfr = np.max(hist)\n",
    "            #print(maxfr)\n",
    "            #maxfr_t = np.where(edges==maxfr)\n",
    "            #print(maxfr_t)\n",
    "            #hist=list(hist)\n",
    "            #hist.extend([2])\n",
    "            hists.append(hist) # kim changed to *0.5 5.23.23\n",
    "            peakt.append(df.peakup[i])\n",
    "\n",
    "        mn = np.mean(hists,axis=0)\n",
    "        all_rastor.append(hists)\n",
    "        all_reach.append(mn)\n",
    "    return all_reach,all_rastor,peakt"
   ]
  },
  {
   "cell_type": "markdown",
   "id": "f9528de0",
   "metadata": {},
   "source": [
    "# imports"
   ]
  },
  {
   "cell_type": "code",
   "execution_count": null,
   "id": "0401a363",
   "metadata": {},
   "outputs": [],
   "source": [
    "df = pd.read_json(r'')"
   ]
  },
  {
   "cell_type": "code",
   "execution_count": null,
   "id": "746601de",
   "metadata": {},
   "outputs": [],
   "source": [
    "# use dataframe from after behavior alignment"
   ]
  },
  {
   "cell_type": "code",
   "execution_count": null,
   "id": "5fcad018",
   "metadata": {},
   "outputs": [],
   "source": [
    "df_run = df[df.mod_up=='yes'][df.epochFR>5].sort_values(by=['peakup'])"
   ]
  },
  {
   "cell_type": "code",
   "execution_count": null,
   "id": "dff21e50",
   "metadata": {},
   "outputs": [],
   "source": [
    "avereach,raster,peaks = psth(df_run,dfr,-.5,.5,0.001)"
   ]
  },
  {
   "cell_type": "code",
   "execution_count": null,
   "id": "c4c403e9",
   "metadata": {},
   "outputs": [],
   "source": [
    "rast_maps = []\n",
    "for i,rast in enumerate(raster):\n",
    "        rast_maps.extend(rast)"
   ]
  },
  {
   "cell_type": "code",
   "execution_count": null,
   "id": "e0c39f93",
   "metadata": {},
   "outputs": [],
   "source": [
    "# this gets rid of double counted units (if a bin has integer 2 instead of 1, just cleans up the figure)\n",
    "new_rastmap = []\n",
    "for i in rast_maps:\n",
    "    new_rast = []\n",
    "    for j in i:\n",
    "        if j > 0:\n",
    "            new_rast.append(1)\n",
    "        if j == 0:\n",
    "            new_rast.append(0)\n",
    "    new_rastmap.append(new_rast)"
   ]
  },
  {
   "cell_type": "code",
   "execution_count": null,
   "id": "8f4fa2a3",
   "metadata": {},
   "outputs": [],
   "source": [
    "clust = []\n",
    "for i in np.arange(1,np.shape(dfr)[0]+1,1):\n",
    "    clust.extend(np.ones(np.shape(df_run)[0])*i)"
   ]
  },
  {
   "cell_type": "code",
   "execution_count": null,
   "id": "b7801c56",
   "metadata": {},
   "outputs": [],
   "source": [
    "df_clust = pd.DataFrame(data=clust,columns=['clust'])"
   ]
  },
  {
   "cell_type": "code",
   "execution_count": null,
   "id": "a7819567",
   "metadata": {},
   "outputs": [],
   "source": [
    "df_clust['rast'] = new_rastmap"
   ]
  },
  {
   "cell_type": "code",
   "execution_count": null,
   "id": "bd9e30a5",
   "metadata": {},
   "outputs": [],
   "source": [
    "colors = ['mediumpurple','cornflowerblue','violet','turquoise','mediumpurple','lightgreen','cornflowerblue','violet','turquoise','mediumpurple','lightgreen','cornflowerblue','violet','turquoise','mediumpurple','lightgreen','cornflowerblue','violet','turquoise','mediumpurple','lightgreen','cornflowerblue','mediumpurple','lightgreen','cornflowerblue','violet','turquoise','mediumpurple','lightgreen','cornflowerblue']\n",
    "#colors = ['mediumpurple','salmon','cornflowerblue','lightgreen','turquoise','mediumpurple','salmon','cornflowerblue','lightgreen','turquoise','mediumpurple','salmon','cornflowerblue','lightgreen','turquoise','mediumpurple','salmon','cornflowerblue','lightgreen','turquoise','mediumpurple','salmon']\n",
    "plt.figure()\n",
    "plt.subplots(figsize=(8,4))\n",
    "axes=plt.gca()\n",
    "linewidth = 0.5\n",
    "markersize=3\n",
    "for i,rast in enumerate(df_clust.rast):\n",
    "    cl = int(df_clust.clust[i])\n",
    "    color = colors[cl]\n",
    "    x = np.arange(-0.5,0.5,0.001)\n",
    "    y = np.array(rast)\n",
    "    axes.plot(x[:-1], y*(i+2),\"o\",markersize=markersize,mew=linewidth,color=color)\n",
    "    axes.set_xlabel(r'$time \\/ (s)$',fontsize=20)\n",
    "    #axes.set_ylabel(r'$trials$',fontsize=20)\n",
    "    axes.tick_params(axis='both',labelsize=20)\n",
    "    #axes.axvline(0,linestyle='--',color='grey')\n",
    "    axes.spines['top'].set_visible(False);axes.yaxis.set_ticks_position('left')\n",
    "    axes.spines['right'].set_visible(False);axes.xaxis.set_ticks_position('bottom')\n",
    "#plt.savefig(r'C:\\Users\\Kim\\Documents\\conferences\\ARMartin\\testfog2.svg')\n",
    "plt.ylim(np.shape(rast_maps)[0],3)\n",
    "#plt.savefig(r'Y:\\BIOElectricsLab\\Kim\\ConferenceGrantFigs\\MyelinGrant\\cntrl_raster\\komiyamafig.png')\n",
    "plt.show()"
   ]
  }
 ],
 "metadata": {
  "kernelspec": {
   "display_name": "Python 3 (ipykernel)",
   "language": "python",
   "name": "python3"
  },
  "language_info": {
   "codemirror_mode": {
    "name": "ipython",
    "version": 3
   },
   "file_extension": ".py",
   "mimetype": "text/x-python",
   "name": "python",
   "nbconvert_exporter": "python",
   "pygments_lexer": "ipython3",
   "version": "3.9.7"
  }
 },
 "nbformat": 4,
 "nbformat_minor": 5
}
