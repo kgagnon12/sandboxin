{
 "cells": [
  {
   "cell_type": "code",
   "execution_count": 1,
   "id": "356a03c9",
   "metadata": {},
   "outputs": [],
   "source": [
    "import numpy as np\n",
    "import matplotlib.pyplot as plt\n",
    "import _pickle as pkl\n",
    "import pandas as pd\n",
    "import os,io,sys,glob, h5py, csv, time\n",
    "import matplotlib.pyplot as plt\n",
    "import json\n",
    "\n",
    "from dlab import generalephys as ephys\n",
    "from dlab import generalephys_mua as ephys_mua\n",
    "#from neuropixels import cell_pairs as pairs\n",
    "\n",
    "#from neuropixels import utils_pipeline as utils\n",
    "#from neuropixels import analysis_pipeline as analysis\n",
    "\n",
    "from dlab import analysis_pipeline as analysis\n",
    "from dlab.continuous_traces import gaussian_filter1d\n",
    "from scipy.signal import find_peaks\n",
    "from scipy.stats import pearsonr, spearmanr, zscore\n",
    "from itertools import combinations \n",
    "#from neuropixels import sorting_quality_editing as sq\n",
    "from sklearn.manifold import TSNE\n",
    "from scipy.cluster.vq import kmeans2\n",
    "#from dlab import depth_estimation as depth\n",
    "#from dlab import PCA as pca\n",
    "from scipy import stats\n",
    "\n",
    "import seaborn as sns\n",
    "sns.set_style('white')\n",
    "%matplotlib inline\n",
    "%load_ext autoreload\n",
    "%autoreload 2\n",
    "sns.set_style(\"white\")\n",
    "import warnings\n",
    "warnings.filterwarnings('ignore')"
   ]
  },
  {
   "cell_type": "code",
   "execution_count": 2,
   "id": "6073bdb7",
   "metadata": {},
   "outputs": [],
   "source": [
    "def psth(df,df_reaches,start,end,binsize):\n",
    "\n",
    "    tensor = []\n",
    "    hists = []\n",
    "    each_unit = []\n",
    "    behavior = []\n",
    "    units = []\n",
    "    reach = []\n",
    "    all_reach = []\n",
    "    all_rastor = []\n",
    "    peakt = []\n",
    "\n",
    "    for i,times in enumerate(df.times): #compare that unit's spike times to each reach max\n",
    "        t = np.array(times) #for reach unit create an array of that unit's spike times\n",
    "        hists = []\n",
    "        for j,tmax in enumerate(df_reaches.rMax_t): #for each unit \n",
    "            a = tmax+start\n",
    "            b = tmax+end\n",
    "            rd = np.array(t[(t >= a) & (t <= b)]) #find if that unit spiked within designated timeframes around reachmax\n",
    "            edges=np.arange(a,b,binsize) #designated bins around this iteration of reachmax\n",
    "            hist=np.histogram(rd,edges)[0] #bin spikes into timeframe\n",
    "            \n",
    "            #maxfr = np.max(hist)\n",
    "            #print(maxfr)\n",
    "            #maxfr_t = np.where(edges==maxfr)\n",
    "            #print(maxfr_t)\n",
    "            #hist=list(hist)\n",
    "            #hist.extend([2])\n",
    "            hists.append(hist) # kim changed to *0.5 5.23.23\n",
    "            peakt.append(df.peakup[i])\n",
    "\n",
    "        mn = np.mean(hists,axis=0)\n",
    "        all_rastor.append(hists)\n",
    "        all_reach.append(mn)\n",
    "    return all_reach,all_rastor,peakt"
   ]
  },
  {
   "cell_type": "markdown",
   "id": "8c3836cc",
   "metadata": {},
   "source": [
    "# imports"
   ]
  },
  {
   "cell_type": "code",
   "execution_count": 3,
   "id": "5747d743",
   "metadata": {},
   "outputs": [],
   "source": [
    "folder = r'Y:\\BIOElectricsLab\\Kim\\NPX_recordings\\MOBPNPX_cohort2_10_2022'\n",
    "df2 = pd.read_json(os.path.join(folder,'df_aligned.json'))\n",
    "dfr2 = pd.read_json(os.path.join(folder,'df_reaches.json'))\n",
    "df2 = df2[df2.group=='good']"
   ]
  },
  {
   "cell_type": "code",
   "execution_count": 4,
   "id": "85c62101",
   "metadata": {},
   "outputs": [],
   "source": [
    "dfg = pd.read_json(r'C:\\Users\\Kim\\Documents\\Data\\gustavo_data\\df_DG.json')\n",
    "#dfg = dfg[dfg.cohort2=='Gustavo'][dfg.timepoint==2]\n",
    "#dfd = dfg[dfg.timepoint==2][dfg.cohort2=='Dailey'][dfg.group=='good']\n",
    "df1 = dfg[dfg.group=='good'][dfg.cohort2=='Dailey']\n",
    "dfr1 = pd.read_json(r'Y:\\BIOElectricsLab\\Kim\\DATAforanalysis\\Dailey\\df_reaches_061622.json')\n",
    "#dfrg = pd.read_json(r'C:\\Users\\Kim\\Documents\\Data\\gustavo_data\\pipeline_inputs\\df_reaches_MOBP_timepoint2.json')"
   ]
  },
  {
   "cell_type": "code",
   "execution_count": 5,
   "id": "fa3ee152",
   "metadata": {},
   "outputs": [
    {
     "name": "stdout",
     "output_type": "stream",
     "text": [
      "[11]\n",
      "[12]\n",
      "[20]\n",
      "[22]\n",
      "[24]\n",
      "[]\n",
      "[42]\n",
      "[43]\n",
      "[49]\n",
      "[51]\n",
      "[53]\n",
      "[56]\n",
      "[58]\n",
      "[59]\n",
      "[64]\n",
      "[65]\n",
      "[66]\n",
      "[67]\n",
      "[68]\n",
      "[69]\n",
      "[71]\n"
     ]
    }
   ],
   "source": [
    "df_align_all = [analysis.movement_mod(df1[df1.mouse==mouseid],dfr1[dfr1.mouse==mouseid]) for mouseid in dfr1.mouse.unique()]\n",
    "df1 = pd.concat(df_align_all,ignore_index=True)"
   ]
  },
  {
   "cell_type": "code",
   "execution_count": 184,
   "id": "de4e9747",
   "metadata": {},
   "outputs": [],
   "source": [
    "df_run = df[df.mod_up=='yes'][df.epochFR>5].sort_values(by=['peakup'])"
   ]
  },
  {
   "cell_type": "code",
   "execution_count": 185,
   "id": "8c1e47bc",
   "metadata": {},
   "outputs": [],
   "source": [
    "df_run = df_run.drop(['level_0'],axis=1)\n",
    "df_run = df_run.reset_index()"
   ]
  },
  {
   "cell_type": "code",
   "execution_count": 191,
   "id": "38dee0d3",
   "metadata": {},
   "outputs": [],
   "source": [
    "avereach,raster,peaks = psth(df_run,dfr[20:],-.5,.5,0.001)"
   ]
  },
  {
   "cell_type": "code",
   "execution_count": 192,
   "id": "0ded13cb",
   "metadata": {},
   "outputs": [
    {
     "data": {
      "text/plain": [
       "(40, 9)"
      ]
     },
     "execution_count": 192,
     "metadata": {},
     "output_type": "execute_result"
    }
   ],
   "source": [
    "np.shape(dfr)"
   ]
  },
  {
   "cell_type": "markdown",
   "id": "c21ac591",
   "metadata": {},
   "source": [
    "# raster"
   ]
  },
  {
   "cell_type": "code",
   "execution_count": 81,
   "id": "110ae089",
   "metadata": {},
   "outputs": [],
   "source": [
    "df1 = df1.drop('level_0',axis=1)"
   ]
  },
  {
   "cell_type": "code",
   "execution_count": null,
   "id": "ce8603e8",
   "metadata": {},
   "outputs": [],
   "source": []
  },
  {
   "cell_type": "code",
   "execution_count": 4,
   "id": "4cb31647",
   "metadata": {},
   "outputs": [],
   "source": [
    "df = df2[df2.mouse==96][df2.epochFR>5][df2.mod_up=='yes']\n",
    "dfr = dfr2[dfr2.mouse==96]"
   ]
  },
  {
   "cell_type": "code",
   "execution_count": 5,
   "id": "8dcc8a92",
   "metadata": {},
   "outputs": [],
   "source": [
    "df_run = df.sort_values(by=['peakup'])\n",
    "df_run = df_run.reset_index()"
   ]
  },
  {
   "cell_type": "code",
   "execution_count": 6,
   "id": "f175c942",
   "metadata": {},
   "outputs": [],
   "source": [
    "avereach,raster,peaks = psth(df_run,dfr,-.5,.5,0.001)"
   ]
  },
  {
   "cell_type": "code",
   "execution_count": 14,
   "id": "d4de3b4a",
   "metadata": {},
   "outputs": [
    {
     "data": {
      "text/plain": [
       "(26, 42, 999)"
      ]
     },
     "execution_count": 14,
     "metadata": {},
     "output_type": "execute_result"
    }
   ],
   "source": [
    "np.shape(raster)"
   ]
  },
  {
   "cell_type": "code",
   "execution_count": 8,
   "id": "a671b6e5",
   "metadata": {},
   "outputs": [],
   "source": [
    "rast_maps = []\n",
    "for i,rast in enumerate(raster):\n",
    "        rast_maps.extend(rast)"
   ]
  },
  {
   "cell_type": "code",
   "execution_count": 15,
   "id": "6f70a0b6",
   "metadata": {},
   "outputs": [
    {
     "data": {
      "text/plain": [
       "(1092, 999)"
      ]
     },
     "execution_count": 15,
     "metadata": {},
     "output_type": "execute_result"
    }
   ],
   "source": [
    "np.shape(rast_maps)"
   ]
  },
  {
   "cell_type": "code",
   "execution_count": 9,
   "id": "40bf9eb3",
   "metadata": {},
   "outputs": [],
   "source": [
    "new_rastmap = []\n",
    "for i in rast_maps:\n",
    "    new_rast = []\n",
    "    for j in i:\n",
    "        if j > 0:\n",
    "            new_rast.append(1)\n",
    "        if j == 0:\n",
    "            new_rast.append(0)\n",
    "    new_rastmap.append(new_rast)"
   ]
  },
  {
   "cell_type": "code",
   "execution_count": 10,
   "id": "b07b153b",
   "metadata": {},
   "outputs": [],
   "source": [
    "clust = []\n",
    "for i in np.arange(1,np.shape(dfr)[0]+1,1):\n",
    "    clust.extend(np.ones(np.shape(df_run)[0])*i)"
   ]
  },
  {
   "cell_type": "code",
   "execution_count": 11,
   "id": "e86e1151",
   "metadata": {},
   "outputs": [],
   "source": [
    "df_clust = pd.DataFrame(data=clust,columns=['clust'])"
   ]
  },
  {
   "cell_type": "code",
   "execution_count": 12,
   "id": "066c7f24",
   "metadata": {},
   "outputs": [],
   "source": [
    "df_clust['rast'] = new_rastmap"
   ]
  },
  {
   "cell_type": "code",
   "execution_count": 13,
   "id": "5248d150",
   "metadata": {},
   "outputs": [
    {
     "data": {
      "text/html": [
       "<div>\n",
       "<style scoped>\n",
       "    .dataframe tbody tr th:only-of-type {\n",
       "        vertical-align: middle;\n",
       "    }\n",
       "\n",
       "    .dataframe tbody tr th {\n",
       "        vertical-align: top;\n",
       "    }\n",
       "\n",
       "    .dataframe thead th {\n",
       "        text-align: right;\n",
       "    }\n",
       "</style>\n",
       "<table border=\"1\" class=\"dataframe\">\n",
       "  <thead>\n",
       "    <tr style=\"text-align: right;\">\n",
       "      <th></th>\n",
       "      <th>clust</th>\n",
       "      <th>rast</th>\n",
       "    </tr>\n",
       "  </thead>\n",
       "  <tbody>\n",
       "    <tr>\n",
       "      <th>0</th>\n",
       "      <td>1.0</td>\n",
       "      <td>[0, 0, 0, 0, 0, 0, 0, 0, 0, 0, 0, 0, 0, 0, 0, ...</td>\n",
       "    </tr>\n",
       "    <tr>\n",
       "      <th>1</th>\n",
       "      <td>1.0</td>\n",
       "      <td>[0, 0, 1, 0, 0, 0, 0, 0, 0, 0, 0, 0, 0, 0, 0, ...</td>\n",
       "    </tr>\n",
       "    <tr>\n",
       "      <th>2</th>\n",
       "      <td>1.0</td>\n",
       "      <td>[0, 0, 0, 0, 0, 0, 0, 0, 0, 0, 0, 0, 0, 0, 0, ...</td>\n",
       "    </tr>\n",
       "    <tr>\n",
       "      <th>3</th>\n",
       "      <td>1.0</td>\n",
       "      <td>[0, 0, 0, 0, 0, 0, 0, 0, 0, 0, 0, 0, 0, 0, 0, ...</td>\n",
       "    </tr>\n",
       "    <tr>\n",
       "      <th>4</th>\n",
       "      <td>1.0</td>\n",
       "      <td>[0, 0, 1, 0, 0, 0, 0, 0, 0, 0, 0, 0, 0, 0, 0, ...</td>\n",
       "    </tr>\n",
       "    <tr>\n",
       "      <th>...</th>\n",
       "      <td>...</td>\n",
       "      <td>...</td>\n",
       "    </tr>\n",
       "    <tr>\n",
       "      <th>1087</th>\n",
       "      <td>42.0</td>\n",
       "      <td>[0, 0, 0, 0, 0, 0, 0, 0, 0, 0, 0, 0, 0, 0, 0, ...</td>\n",
       "    </tr>\n",
       "    <tr>\n",
       "      <th>1088</th>\n",
       "      <td>42.0</td>\n",
       "      <td>[0, 0, 0, 0, 0, 0, 0, 0, 0, 0, 0, 0, 0, 0, 0, ...</td>\n",
       "    </tr>\n",
       "    <tr>\n",
       "      <th>1089</th>\n",
       "      <td>42.0</td>\n",
       "      <td>[0, 0, 0, 0, 0, 0, 0, 0, 0, 0, 0, 0, 0, 0, 0, ...</td>\n",
       "    </tr>\n",
       "    <tr>\n",
       "      <th>1090</th>\n",
       "      <td>42.0</td>\n",
       "      <td>[0, 0, 0, 0, 0, 0, 0, 0, 0, 0, 0, 0, 0, 0, 0, ...</td>\n",
       "    </tr>\n",
       "    <tr>\n",
       "      <th>1091</th>\n",
       "      <td>42.0</td>\n",
       "      <td>[0, 0, 0, 0, 0, 0, 0, 0, 0, 0, 0, 0, 0, 0, 0, ...</td>\n",
       "    </tr>\n",
       "  </tbody>\n",
       "</table>\n",
       "<p>1092 rows × 2 columns</p>\n",
       "</div>"
      ],
      "text/plain": [
       "      clust                                               rast\n",
       "0       1.0  [0, 0, 0, 0, 0, 0, 0, 0, 0, 0, 0, 0, 0, 0, 0, ...\n",
       "1       1.0  [0, 0, 1, 0, 0, 0, 0, 0, 0, 0, 0, 0, 0, 0, 0, ...\n",
       "2       1.0  [0, 0, 0, 0, 0, 0, 0, 0, 0, 0, 0, 0, 0, 0, 0, ...\n",
       "3       1.0  [0, 0, 0, 0, 0, 0, 0, 0, 0, 0, 0, 0, 0, 0, 0, ...\n",
       "4       1.0  [0, 0, 1, 0, 0, 0, 0, 0, 0, 0, 0, 0, 0, 0, 0, ...\n",
       "...     ...                                                ...\n",
       "1087   42.0  [0, 0, 0, 0, 0, 0, 0, 0, 0, 0, 0, 0, 0, 0, 0, ...\n",
       "1088   42.0  [0, 0, 0, 0, 0, 0, 0, 0, 0, 0, 0, 0, 0, 0, 0, ...\n",
       "1089   42.0  [0, 0, 0, 0, 0, 0, 0, 0, 0, 0, 0, 0, 0, 0, 0, ...\n",
       "1090   42.0  [0, 0, 0, 0, 0, 0, 0, 0, 0, 0, 0, 0, 0, 0, 0, ...\n",
       "1091   42.0  [0, 0, 0, 0, 0, 0, 0, 0, 0, 0, 0, 0, 0, 0, 0, ...\n",
       "\n",
       "[1092 rows x 2 columns]"
      ]
     },
     "execution_count": 13,
     "metadata": {},
     "output_type": "execute_result"
    }
   ],
   "source": [
    "df_clust"
   ]
  },
  {
   "cell_type": "code",
   "execution_count": 330,
   "id": "89585825",
   "metadata": {
    "scrolled": true
   },
   "outputs": [
    {
     "name": "stdout",
     "output_type": "stream",
     "text": [
      "21\n"
     ]
    },
    {
     "data": {
      "text/plain": [
       "<Figure size 432x288 with 0 Axes>"
      ]
     },
     "metadata": {},
     "output_type": "display_data"
    },
    {
     "data": {
      "image/png": "[encoded data removed]",
      "text/plain": [
       "<Figure size 288x144 with 1 Axes>"
      ]
     },
     "metadata": {},
     "output_type": "display_data"
    },
    {
     "name": "stdout",
     "output_type": "stream",
     "text": [
      "36\n"
     ]
    },
    {
     "data": {
      "text/plain": [
       "<Figure size 432x288 with 0 Axes>"
      ]
     },
     "metadata": {},
     "output_type": "display_data"
    },
    {
     "data": {
      "image/png": "[encoded data removed]",
      "text/plain": [
       "<Figure size 288x144 with 1 Axes>"
      ]
     },
     "metadata": {},
     "output_type": "display_data"
    },
    {
     "name": "stdout",
     "output_type": "stream",
     "text": [
      "39\n"
     ]
    },
    {
     "data": {
      "text/plain": [
       "<Figure size 432x288 with 0 Axes>"
      ]
     },
     "metadata": {},
     "output_type": "display_data"
    },
    {
     "data": {
      "image/png": "[encoded data removed]",
      "text/plain": [
       "<Figure size 288x144 with 1 Axes>"
      ]
     },
     "metadata": {},
     "output_type": "display_data"
    },
    {
     "name": "stdout",
     "output_type": "stream",
     "text": [
      "40\n"
     ]
    },
    {
     "data": {
      "text/plain": [
       "<Figure size 432x288 with 0 Axes>"
      ]
     },
     "metadata": {},
     "output_type": "display_data"
    },
    {
     "data": {
      "image/png": "[encoded data removed]",
      "text/plain": [
       "<Figure size 288x144 with 1 Axes>"
      ]
     },
     "metadata": {},
     "output_type": "display_data"
    },
    {
     "name": "stdout",
     "output_type": "stream",
     "text": [
      "41\n"
     ]
    },
    {
     "data": {
      "text/plain": [
       "<Figure size 432x288 with 0 Axes>"
      ]
     },
     "metadata": {},
     "output_type": "display_data"
    },
    {
     "data": {
      "image/png": "[encoded data removed]",
      "text/plain": [
       "<Figure size 288x144 with 1 Axes>"
      ]
     },
     "metadata": {},
     "output_type": "display_data"
    },
    {
     "name": "stdout",
     "output_type": "stream",
     "text": [
      "43\n"
     ]
    },
    {
     "data": {
      "text/plain": [
       "<Figure size 432x288 with 0 Axes>"
      ]
     },
     "metadata": {},
     "output_type": "display_data"
    },
    {
     "data": {
      "image/png": "[encoded data removed]",
      "text/plain": [
       "<Figure size 288x144 with 1 Axes>"
      ]
     },
     "metadata": {},
     "output_type": "display_data"
    }
   ],
   "source": [
    "linewidth = 0.5\n",
    "markersize=4\n",
    "for i,rast in enumerate(raster):\n",
    "    good_list = [21,36,39,40,41,43]\n",
    "    if i in good_list:\n",
    "        plt.figure()\n",
    "        plt.subplots(figsize=(4, 2))\n",
    "        axes=plt.gca()\n",
    "        print(i)\n",
    "        for j,r in enumerate(rast):\n",
    "            x = np.arange(-0.5,0.5,0.001)\n",
    "            y = np.array(r)\n",
    "            axes.plot(x[:-1], y*(j+2),\"|\",markersize=markersize,mew=linewidth,color='black')\n",
    "            axes.set_xlabel(r'$time \\/ (s)$',fontsize=20)\n",
    "            axes.set_ylabel(r'$trials$',fontsize=20)\n",
    "            axes.tick_params(axis='both',labelsize=20)\n",
    "            axes.locator_params(axis=\"both\", integer=True, tight=True)\n",
    "        plt.ylim(np.shape(dfr[:20])[0],1)\n",
    "        path = r'Y:\\BIOElectricsLab\\Kim\\ConferenceGrantFigs\\MyelinGrant\\cntrl_raster\\selectreaches'\n",
    "        plt.savefig(os.path.join(path,str(i) + '.svg'))\n",
    "        plt.show()\n",
    "        plt.close()"
   ]
  },
  {
   "cell_type": "markdown",
   "id": "66a2e7ba",
   "metadata": {},
   "source": [
    "# single trial raster"
   ]
  },
  {
   "cell_type": "code",
   "execution_count": 110,
   "id": "6bcefd40",
   "metadata": {},
   "outputs": [
    {
     "data": {
      "text/plain": [
       "(101, 31, 999)"
      ]
     },
     "execution_count": 110,
     "metadata": {},
     "output_type": "execute_result"
    }
   ],
   "source": [
    "np.shape(raster)"
   ]
  },
  {
   "cell_type": "code",
   "execution_count": 131,
   "id": "f5d98558",
   "metadata": {
    "scrolled": false
   },
   "outputs": [],
   "source": [
    "linewidth = 0.5\n",
    "markersize=5\n",
    "#for r,reach in enumerate(dfr):\n",
    "#    plt.figure()\n",
    "#    plt.subplots(figsize=(8, 6))\n",
    "#    axes=plt.gca()\n",
    "#    idk = []\n",
    "#    for n,rast in enumerate(raster):\n",
    "#        x = np.arange(-0.5,0.5,0.001)\n",
    "#        y = np.array(rast[r])\n",
    "#        axes.plot(x[:-1], y*(n+2),\"o\",markersize=markersize,mew=linewidth,color='black')\n",
    "#        axes.set_xlabel(r'$time \\/ [ms]$',fontsize=20)\n",
    "#        axes.set_ylabel(r'$neurons$',fontsize=20)\n",
    "#        axes.tick_params(axis='both',labelsize=20)\n",
    "#        plt.ylim(np.shape(raster)[0],1)\n",
    "#        plt.axvline(0)\n",
    "#        idk.append(y)\n",
    "#    plt.show()\n",
    "#    plt.close()\n",
    "    #sns.heatmap(idk)\n",
    "    #plt.show()\n",
    "    #plt.close()"
   ]
  },
  {
   "cell_type": "markdown",
   "id": "0103b6d9",
   "metadata": {},
   "source": [
    "# reliability fig (komiyama)"
   ]
  },
  {
   "cell_type": "code",
   "execution_count": 357,
   "id": "d1c82566",
   "metadata": {},
   "outputs": [],
   "source": [
    "#df1 = df1.drop('level_0',axis=1)\n",
    "df = df2[df2.mouse==96][df2.epochFR>5][df2.mod_up=='yes']\n",
    "dfr = dfr2[dfr2.mouse==96]"
   ]
  },
  {
   "cell_type": "code",
   "execution_count": 307,
   "id": "c5f4ad02",
   "metadata": {},
   "outputs": [],
   "source": [
    "#df1 = df1.drop('level_0',axis=1)\n",
    "df = df1[df1.mouse==67][df1.epochFR>5][df1.group=='good'][df1.mod_up=='yes']\n",
    "dfr = dfr1[dfr1.mouse==67]"
   ]
  },
  {
   "cell_type": "code",
   "execution_count": 361,
   "id": "762dda16",
   "metadata": {},
   "outputs": [
    {
     "data": {
      "text/plain": [
       "(42, 9)"
      ]
     },
     "execution_count": 361,
     "metadata": {},
     "output_type": "execute_result"
    }
   ],
   "source": [
    "np.shape(dfr)"
   ]
  },
  {
   "cell_type": "code",
   "execution_count": 358,
   "id": "2c54869e",
   "metadata": {},
   "outputs": [],
   "source": [
    "df_run = df.sort_values(by=['peakup'])\n",
    "df_run = df_run.reset_index()"
   ]
  },
  {
   "cell_type": "code",
   "execution_count": 359,
   "id": "9ff5d12f",
   "metadata": {},
   "outputs": [
    {
     "data": {
      "text/plain": [
       "(26, 30)"
      ]
     },
     "execution_count": 359,
     "metadata": {},
     "output_type": "execute_result"
    }
   ],
   "source": [
    "np.shape(df)"
   ]
  },
  {
   "cell_type": "code",
   "execution_count": 370,
   "id": "2f2a9339",
   "metadata": {},
   "outputs": [],
   "source": [
    "avereach,raster,peaks = psth(df_run,dfr[22:],-.5,.5,0.001)"
   ]
  },
  {
   "cell_type": "code",
   "execution_count": 371,
   "id": "aee61db7",
   "metadata": {},
   "outputs": [],
   "source": [
    "#good_list = [36,40,41,43] #cntrl\n",
    "good_list = [5,7,9,14] #cup\n",
    "rast_map = []\n",
    "for i,rast in enumerate(raster):\n",
    "    if i in good_list:\n",
    "        rast_map.append(rast)"
   ]
  },
  {
   "cell_type": "code",
   "execution_count": 372,
   "id": "db45c8b6",
   "metadata": {},
   "outputs": [
    {
     "data": {
      "text/plain": [
       "(4, 20, 999)"
      ]
     },
     "execution_count": 372,
     "metadata": {},
     "output_type": "execute_result"
    }
   ],
   "source": [
    "np.shape(rast_map)"
   ]
  },
  {
   "cell_type": "code",
   "execution_count": 373,
   "id": "9908af19",
   "metadata": {},
   "outputs": [],
   "source": [
    "rast_maps = []\n",
    "for i,rast in enumerate(rast_map):\n",
    "        rast_maps.extend(rast)"
   ]
  },
  {
   "cell_type": "code",
   "execution_count": 374,
   "id": "5f11b3db",
   "metadata": {},
   "outputs": [
    {
     "data": {
      "text/plain": [
       "(80, 999)"
      ]
     },
     "execution_count": 374,
     "metadata": {},
     "output_type": "execute_result"
    }
   ],
   "source": [
    "np.shape(rast_maps)"
   ]
  },
  {
   "cell_type": "code",
   "execution_count": 375,
   "id": "249a9d6c",
   "metadata": {},
   "outputs": [],
   "source": [
    "#new_rastmap = []\n",
    "#for i in rast_map:\n",
    " #   new_rast = []\n",
    " #   for j in i:\n",
    "#        if j > 0:\n",
    "#            new_rast.append(1)\n",
    "#        if j == 0:\n",
    "#            new_rast.append(0)\n",
    "#    new_rastmap.append(new_rast)"
   ]
  },
  {
   "cell_type": "code",
   "execution_count": 376,
   "id": "c531ec3c",
   "metadata": {},
   "outputs": [],
   "source": [
    "clust = []\n",
    "for i in np.arange(1,np.shape(df_run[:4])[0]+1,1):\n",
    "    clust.extend(np.ones(np.shape(dfr[22:])[0])*i)\n",
    "\n",
    "df_clust = pd.DataFrame(data=clust,columns=['clust'])"
   ]
  },
  {
   "cell_type": "code",
   "execution_count": 377,
   "id": "17f60de9",
   "metadata": {},
   "outputs": [],
   "source": [
    "df_clust = pd.DataFrame(data=clust,columns=['clust'])"
   ]
  },
  {
   "cell_type": "code",
   "execution_count": 378,
   "id": "4fed3b8c",
   "metadata": {},
   "outputs": [],
   "source": [
    "df_clust['rast'] = rast_maps"
   ]
  },
  {
   "cell_type": "code",
   "execution_count": 381,
   "id": "7beb96a1",
   "metadata": {},
   "outputs": [
    {
     "data": {
      "text/plain": [
       "<Figure size 432x288 with 0 Axes>"
      ]
     },
     "metadata": {},
     "output_type": "display_data"
    },
    {
     "data": {
      "image/png": "[encoded data removed]",
      "text/plain": [
       "<Figure size 1080x216 with 2 Axes>"
      ]
     },
     "metadata": {},
     "output_type": "display_data"
    }
   ],
   "source": [
    "colors = ['mediumpurple','violet','cornflowerblue','turquoise','mediumpurple','lightgreen','cornflowerblue','violet','turquoise','mediumpurple','lightgreen','cornflowerblue','violet','turquoise','mediumpurple','lightgreen','cornflowerblue','violet','turquoise','mediumpurple','lightgreen','cornflowerblue','mediumpurple','lightgreen','cornflowerblue','violet','turquoise','mediumpurple','lightgreen','cornflowerblue']\n",
    "#colors = ['mediumpurple','salmon','cornflowerblue','lightgreen','turquoise','mediumpurple','salmon','cornflowerblue','lightgreen','turquoise','mediumpurple','salmon','cornflowerblue','lightgreen','turquoise','mediumpurple','salmon','cornflowerblue','lightgreen','turquoise','mediumpurple','salmon']\n",
    "plt.figure()\n",
    "fig,(ax1,ax2) = plt.subplots(1,2,figsize=(15,3),sharey=False)\n",
    "#axes=plt.gca()\n",
    "linewidth = 0.5\n",
    "markersize=3\n",
    "for i,rast in enumerate(df_clust.rast):\n",
    "    cl = int(df_clust.clust[i])\n",
    "    color = colors[cl]\n",
    "    x = np.arange(-0.5,0.5,0.001)\n",
    "    y = np.array(rast)\n",
    "    ax1.plot(x[:-1], y*(i+2),\"o\",markersize=markersize,mew=linewidth,color=color)\n",
    "    ax1.set_xlabel(r'$time \\/ (s)$',fontsize=20)\n",
    "    #axes.set_ylabel(r'$trials$',fontsize=20)\n",
    "    ax1.tick_params(axis='both',labelsize=20)\n",
    "    #axes.axvline(0,linestyle='--',color='grey')\n",
    "    ax1.spines['top'].set_visible(False);axes.yaxis.set_ticks_position('left')\n",
    "    ax1.spines['right'].set_visible(False);axes.xaxis.set_ticks_position('bottom')\n",
    "    ax1.set_ylim(np.shape(rast_maps)[0],3)\n",
    "\n",
    "linewidth = 2\n",
    "markersize=8\n",
    "for i,rast in enumerate(raster):\n",
    "    good_list = [7]\n",
    "    if i in good_list:\n",
    "        for j,r in enumerate(rast):\n",
    "            x = np.arange(-0.5,0.5,0.001)\n",
    "            y = np.array(r)\n",
    "            ax2.plot(x[:-1], y*(j+2),\"|\",markersize=markersize,mew=linewidth,color='cornflowerblue')\n",
    "            ax2.set_xlabel(r'$time \\/ (s)$',fontsize=20)\n",
    "            ax2.set_ylabel(r'$trials$',fontsize=20)\n",
    "            ax2.tick_params(axis='both',labelsize=20)\n",
    "            ax2.locator_params(axis=\"both\", integer=True, tight=True)\n",
    "        ax2.set_ylim(20,1)\n",
    "        path = r'Y:\\BIOElectricsLab\\Kim\\ConferenceGrantFigs\\MyelinGrant\\cntrl_raster\\selectreaches'\n",
    "        #plt.savefig(os.path.join(path,str(i) + '.svg'))\n",
    "#plt.show()\n",
    "#plt.close() \n",
    "    \n",
    "    \n",
    "#plt.savefig(r'C:\\Users\\Kim\\Documents\\conferences\\ARMartin\\testfog2.svg')\n",
    "plt.savefig(r'Y:\\BIOElectricsLab\\Kim\\ConferenceGrantFigs\\MyelinGrant\\cup_raster\\komiyamafig.svg')\n",
    "plt.show()\n"
   ]
  },
  {
   "cell_type": "code",
   "execution_count": null,
   "id": "5108acbc",
   "metadata": {},
   "outputs": [],
   "source": [
    "colors = ['mediumpurple','cornflowerblue','violet','turquoise','mediumpurple','lightgreen','cornflowerblue','violet','turquoise','mediumpurple','lightgreen','cornflowerblue','violet','turquoise','mediumpurple','lightgreen','cornflowerblue','violet','turquoise','mediumpurple','lightgreen','cornflowerblue','mediumpurple','lightgreen','cornflowerblue','violet','turquoise','mediumpurple','lightgreen','cornflowerblue']\n",
    "#colors = ['mediumpurple','salmon','cornflowerblue','lightgreen','turquoise','mediumpurple','salmon','cornflowerblue','lightgreen','turquoise','mediumpurple','salmon','cornflowerblue','lightgreen','turquoise','mediumpurple','salmon','cornflowerblue','lightgreen','turquoise','mediumpurple','salmon']\n",
    "plt.figure()\n",
    "plt.subplots(figsize=(8,4))\n",
    "axes=plt.gca()\n",
    "linewidth = 0.5\n",
    "markersize=3\n",
    "for i,rast in enumerate(df_clust.rast):\n",
    "    cl = int(df_clust.clust[i])\n",
    "    color = colors[cl]\n",
    "    x = np.arange(-0.5,0.5,0.001)\n",
    "    y = np.array(rast)\n",
    "    axes.plot(x[:-1], y*(i+2),\"o\",markersize=markersize,mew=linewidth,color=color)\n",
    "    axes.set_xlabel(r'$time \\/ (s)$',fontsize=20)\n",
    "    #axes.set_ylabel(r'$trials$',fontsize=20)\n",
    "    axes.tick_params(axis='both',labelsize=20)\n",
    "    #axes.axvline(0,linestyle='--',color='grey')\n",
    "    axes.spines['top'].set_visible(False);axes.yaxis.set_ticks_position('left')\n",
    "    axes.spines['right'].set_visible(False);axes.xaxis.set_ticks_position('bottom')\n",
    "#plt.savefig(r'C:\\Users\\Kim\\Documents\\conferences\\ARMartin\\testfog2.svg')\n",
    "plt.ylim(np.shape(rast_maps)[0],3)\n",
    "#plt.savefig(r'Y:\\BIOElectricsLab\\Kim\\ConferenceGrantFigs\\MyelinGrant\\cntrl_raster\\komiyamafig.png')\n",
    "plt.show()"
   ]
  },
  {
   "cell_type": "code",
   "execution_count": 382,
   "id": "5135a773",
   "metadata": {},
   "outputs": [],
   "source": [
    "from affinewarp import SpikeData"
   ]
  },
  {
   "cell_type": "code",
   "execution_count": 383,
   "id": "ec1cb8e9",
   "metadata": {},
   "outputs": [
    {
     "data": {
      "text/plain": [
       "affinewarp.spikedata.SpikeData"
      ]
     },
     "execution_count": 383,
     "metadata": {},
     "output_type": "execute_result"
    }
   ],
   "source": [
    "SpikeData"
   ]
  },
  {
   "cell_type": "code",
   "execution_count": 388,
   "id": "9a6708d2",
   "metadata": {},
   "outputs": [
    {
     "ename": "NameError",
     "evalue": "name 'n' is not defined",
     "output_type": "error",
     "traceback": [
      "\u001b[1;31m---------------------------------------------------------------------------\u001b[0m",
      "\u001b[1;31mNameError\u001b[0m                                 Traceback (most recent call last)",
      "\u001b[1;32m~\\AppData\\Local\\Temp/ipykernel_16264/372312726.py\u001b[0m in \u001b[0;36m<module>\u001b[1;34m\u001b[0m\n\u001b[1;32m----> 1\u001b[1;33m \u001b[0mraw_spikes\u001b[0m \u001b[1;33m=\u001b[0m \u001b[0mSpikeData\u001b[0m\u001b[1;33m(\u001b[0m\u001b[1;33m*\u001b[0m\u001b[0mnp\u001b[0m\u001b[1;33m.\u001b[0m\u001b[0mwhere\u001b[0m\u001b[1;33m(\u001b[0m\u001b[0mbinned\u001b[0m\u001b[1;33m)\u001b[0m\u001b[1;33m,\u001b[0m \u001b[1;36m0\u001b[0m\u001b[1;33m,\u001b[0m \u001b[0mbinned\u001b[0m\u001b[1;33m.\u001b[0m\u001b[0mshape\u001b[0m\u001b[1;33m[\u001b[0m\u001b[1;36m1\u001b[0m\u001b[1;33m]\u001b[0m\u001b[1;33m)\u001b[0m\u001b[1;33m.\u001b[0m\u001b[0mselect_neurons\u001b[0m\u001b[1;33m(\u001b[0m\u001b[0mn\u001b[0m\u001b[1;33m)\u001b[0m\u001b[1;33m\u001b[0m\u001b[1;33m\u001b[0m\u001b[0m\n\u001b[0m",
      "\u001b[1;31mNameError\u001b[0m: name 'n' is not defined"
     ]
    }
   ],
   "source": [
    "raw_spikes = SpikeData(*np.where(binned), 0, binned.shape[1]).select_neurons(n)"
   ]
  },
  {
   "cell_type": "code",
   "execution_count": 385,
   "id": "68641aa4",
   "metadata": {},
   "outputs": [
    {
     "data": {
      "text/plain": [
       "affinewarp.spikedata.SpikeData"
      ]
     },
     "execution_count": 385,
     "metadata": {},
     "output_type": "execute_result"
    }
   ],
   "source": [
    "SpikeData"
   ]
  },
  {
   "cell_type": "code",
   "execution_count": 390,
   "id": "d0a01c15",
   "metadata": {},
   "outputs": [
    {
     "name": "stdout",
     "output_type": "stream",
     "text": [
      "<affinewarp.spikedata.SpikeData object at 0x0000029E5C56A460>\n",
      "<affinewarp.spikedata.SpikeData object at 0x0000029E715FA790>\n",
      "<affinewarp.spikedata.SpikeData object at 0x0000029E5C57D310>\n",
      "<affinewarp.spikedata.SpikeData object at 0x0000029E5C56A460>\n",
      "<affinewarp.spikedata.SpikeData object at 0x0000029E715FA790>\n"
     ]
    },
    {
     "data": {
      "image/png": "[encoded data removed]",
      "text/plain": [
       "<Figure size 720x360 with 30 Axes>"
      ]
     },
     "metadata": {},
     "output_type": "display_data"
    }
   ],
   "source": [
    "fig, axes = plt.subplots(5, 6, sharex=True, sharey=True, figsize=(10, 5))\n",
    "for n, axr in enumerate(axes):\n",
    "    raw_spikes = SpikeData(*np.where(binned), 0, binned.shape[1]).select_neurons(n)\n",
    "    print(raw_spikes)"
   ]
  },
  {
   "cell_type": "code",
   "execution_count": 387,
   "id": "69949d80",
   "metadata": {},
   "outputs": [],
   "source": [
    "from affinewarp.datasets import piecewise_warped_data\n",
    "binned, true_model = piecewise_warped_data(\n",
    "    n_knots=1,\n",
    "    n_trials=100,\n",
    "    n_timepoints=150,\n",
    "    n_neurons=100,\n",
    "    clip_y_knots=False,\n",
    "    template_scale=1.0,\n",
    "    template_drop=.9,\n",
    "    template_smoothness=2,\n",
    "    noise_type=\"poisson\",\n",
    "    seed=1234)"
   ]
  },
  {
   "cell_type": "code",
   "execution_count": null,
   "id": "8bf272d7",
   "metadata": {},
   "outputs": [],
   "source": []
  }
 ],
 "metadata": {
  "kernelspec": {
   "display_name": "Python 3 (ipykernel)",
   "language": "python",
   "name": "python3"
  },
  "language_info": {
   "codemirror_mode": {
    "name": "ipython",
    "version": 3
   },
   "file_extension": ".py",
   "mimetype": "text/x-python",
   "name": "python",
   "nbconvert_exporter": "python",
   "pygments_lexer": "ipython3",
   "version": "3.9.7"
  }
 },
 "nbformat": 4,
 "nbformat_minor": 5
}
