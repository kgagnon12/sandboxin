{
 "cells": [
  {
   "cell_type": "code",
   "execution_count": 5,
   "metadata": {},
   "outputs": [
    {
     "ename": "ImportError",
     "evalue": "cannot import name 'reach_align_pipeline' from 'dlab' (/opt/anaconda3/envs/dlab_rotation/lib/python3.7/site-packages/dlab/__init__.py)",
     "output_type": "error",
     "traceback": [
      "\u001b[0;31m---------------------------------------------------------------------------\u001b[0m",
      "\u001b[0;31mImportError\u001b[0m                               Traceback (most recent call last)",
      "\u001b[0;32m<ipython-input-5-bb2e7628c0ef>\u001b[0m in \u001b[0;36m<module>\u001b[0;34m()\u001b[0m\n\u001b[1;32m      5\u001b[0m \u001b[0;32mimport\u001b[0m \u001b[0mos\u001b[0m\u001b[0;34m,\u001b[0m\u001b[0msys\u001b[0m\u001b[0;34m,\u001b[0m\u001b[0mglob\u001b[0m\u001b[0;34m,\u001b[0m \u001b[0mh5py\u001b[0m\u001b[0;34m\u001b[0m\u001b[0;34m\u001b[0m\u001b[0m\n\u001b[1;32m      6\u001b[0m \u001b[0;34m\u001b[0m\u001b[0m\n\u001b[0;32m----> 7\u001b[0;31m \u001b[0;32mfrom\u001b[0m \u001b[0mdlab\u001b[0m \u001b[0;32mimport\u001b[0m \u001b[0mreach_align_pipeline\u001b[0m \u001b[0;32mas\u001b[0m \u001b[0mrf\u001b[0m\u001b[0;34m\u001b[0m\u001b[0;34m\u001b[0m\u001b[0m\n\u001b[0m\u001b[1;32m      8\u001b[0m \u001b[0;32mfrom\u001b[0m \u001b[0mdlab\u001b[0m\u001b[0;34m.\u001b[0m\u001b[0mgeneralephys\u001b[0m \u001b[0;32mimport\u001b[0m \u001b[0mplaceAxesOnGrid\u001b[0m\u001b[0;34m,\u001b[0m \u001b[0mcleanAxes\u001b[0m\u001b[0;34m\u001b[0m\u001b[0;34m\u001b[0m\u001b[0m\n\u001b[1;32m      9\u001b[0m \u001b[0;34m\u001b[0m\u001b[0m\n",
      "\u001b[0;31mImportError\u001b[0m: cannot import name 'reach_align_pipeline' from 'dlab' (/opt/anaconda3/envs/dlab_rotation/lib/python3.7/site-packages/dlab/__init__.py)"
     ]
    }
   ],
   "source": [
    "import numpy as np\n",
    "import matplotlib.pyplot as plt\n",
    "import _pickle as pkl\n",
    "import pandas as pd\n",
    "import os,sys,glob, h5py\n",
    "\n",
    "from dlab import reach_align_pipeline as rf\n",
    "from dlab.generalephys import placeAxesOnGrid, cleanAxes\n",
    "\n",
    "from dlab.continuous_traces import gaussian_filter1d\n",
    "from scipy.signal import find_peaks\n",
    "from scipy.stats import pearsonr, spearmanr, zscore\n",
    "from itertools import combinations \n",
    "\n",
    "from sklearn.decomposition import PCA\n",
    "from sklearn.preprocessing import StandardScaler\n",
    "\n",
    "import seaborn as sns\n",
    "sns.set_style('white')\n",
    "%matplotlib inline\n",
    "%load_ext autoreload\n",
    "%autoreload 2\n",
    "import warnings\n",
    "warnings.filterwarnings('ignore')"
   ]
  },
  {
   "cell_type": "markdown",
   "metadata": {},
   "source": [
    "# import ephys and timestamp info"
   ]
  },
  {
   "cell_type": "code",
   "execution_count": 3,
   "metadata": {},
   "outputs": [],
   "source": [
    "#import dataframe with information for all mice (dailey- should be on your desktop in kimdata named dfexcept28_ypos.json)\n",
    "data_path = '/Users/kimberlygagnon/Documents/CU/Welle Lab/experiments/daileydata/dfexcept28_ypos.json'\n",
    "df = pd.read_json(data_path)\n",
    "\n",
    "ts_path = '/Users/kimberlygagnon/Documents/CU/Welle Lab/experiments/daileydata/finalized/df_ts.json'\n",
    "df_ts = pd.read_json(data_path)\n",
    "\n",
    "p_start = '/Users/kimberlygagnon/Documents/CU/Welle Lab/experiments/daileydata/finalized/Neuropixels_ProcessorStartTimes.csv'\n",
    "df_start = pd.read_csv(p_start)"
   ]
  },
  {
   "cell_type": "markdown",
   "metadata": {},
   "source": [
    "# initialize dataframe with behavior alignments"
   ]
  },
  {
   "cell_type": "code",
   "execution_count": null,
   "metadata": {},
   "outputs": [],
   "source": [
    "df_align = pd.DataFrame(df,columns = ['times','ypos','mouse','cohort','cell','overall_rate','baseline_fr','reach_fr','waveform_class'])"
   ]
  },
  {
   "cell_type": "markdown",
   "metadata": {},
   "source": [
    "# import curated behavior file"
   ]
  },
  {
   "cell_type": "code",
   "execution_count": null,
   "metadata": {},
   "outputs": [],
   "source": [
    "#import curated behavior for specific mouse (save xls as csv)\n",
    "reach_path = '/Users/kimberlygagnon/Documents/CU/Welle Lab/experiments/daileydata/finalized/Curated_Video_Timestamps/20200804_unit00_session001_NPCE_026.csv'\n",
    "df_reaches = pd.read_csv(reach_path)\n",
    "#remove random nans\n",
    "df_reaches = df_reaches.dropna(axis = 1 , how = 'all')\n",
    "df_reaches = df_reaches.dropna(axis = 0 , how = 'all')\n",
    "df_reaches.head()"
   ]
  },
  {
   "cell_type": "markdown",
   "metadata": {},
   "source": [
    "# synch behavior and create relevant dataframes"
   ]
  },
  {
   "cell_type": "code",
   "execution_count": null,
   "metadata": {},
   "outputs": [],
   "source": [
    "for mouse in df.mouse.unique():\n",
    "    df_ = df[df.mouse==mouse]\n",
    "        #align software with ephys\n",
    "        soft_start = df_start[df_start.Mouse_number==mouse].Processor_Start_time\n",
    "        frame_ts = df_ts[df_ts.mouse==mouse].timestamps\n",
    "    #WRITE CODE THAT LOADS RELEVANT CURATED BEHAVIOR EXCEL SPREADSHEET SAVED AS CSV\n",
    "        reach_times = synchphys(soft_start,frame_ts) #gets reach times\n",
    "        df_reaches['rMax_t']= reach_times\n",
    "        df_reaches = df_reaches[df_reaches.behaviors!='none'][df_reaches.behaviors!='arm_movement']\n",
    "    #in below code can look at success vs. failure reaches by inputing df_reaches[df_reaches=='success'] or 'x_failure'\n",
    "        reaches = rf.epochfr(df_,df_reaches)\n",
    "        df_align['epoch_fr'] = reaches\n",
    "        baseline = rf.epochfr(df_,df_reaches,start = 1.0,end = -0.5,binsize) \n",
    "        df_align['baseline_fr'] = baseline\n",
    "        ave_reach,normedbins,ave_reach_ = rf.reachave_tensor(df_,df_reaches) #gets -4 to +2 epoch for plotting heatmap as well as tensor for PCA\n",
    "        df_align['bin_ave'] = ave_reach\n",
    "        df_align['norm_bin_ave'] = normedbins\n",
    "        traj = rf.center(reach_ave_)\n",
    "        p,ev = rf.pca(traj)\n",
    "        df_align['expl_var'] = ev\n",
    "        df_align['pcs'] = p\n",
    "        smooth_pcs = gaussian_filter1d(p, sigma=8)\n",
    "        df_align['smooth_pcs'] = smooth_pcs\n",
    "        \n",
    "        #need to concat df_align with larger dataframe in for loop?? to make complete \n",
    "    "
   ]
  }
 ],
 "metadata": {
  "kernelspec": {
   "display_name": "Python 3",
   "language": "python",
   "name": "python3"
  },
  "language_info": {
   "codemirror_mode": {
    "name": "ipython",
    "version": 3
   },
   "file_extension": ".py",
   "mimetype": "text/x-python",
   "name": "python",
   "nbconvert_exporter": "python",
   "pygments_lexer": "ipython3",
   "version": "3.7.9"
  }
 },
 "nbformat": 4,
 "nbformat_minor": 4
}
